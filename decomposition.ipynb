{
 "cells": [
  {
   "cell_type": "code",
   "id": "initial_id",
   "metadata": {
    "collapsed": true,
    "ExecuteTime": {
     "end_time": "2025-09-07T10:09:06.056490Z",
     "start_time": "2025-09-07T10:09:06.052516Z"
    }
   },
   "source": [
    "import cv2\n",
    "import matplotlib.pyplot as plt\n",
    "\n",
    "from deconvolution_processing import Process\n",
    "\n",
    "from compare_methods import Compare"
   ],
   "outputs": [],
   "execution_count": 13
  },
  {
   "metadata": {
    "ExecuteTime": {
     "end_time": "2025-09-07T10:09:06.152250Z",
     "start_time": "2025-09-07T10:09:06.061845Z"
    }
   },
   "cell_type": "code",
   "source": [
    "image_path = \"og.png\"\n",
    "target_image_path = \"target.png\"\n",
    "\n",
    "image = cv2.imread(image_path)\n",
    "target_image = cv2.imread(target_image_path)\n",
    "\n",
    "#normalizer = Normalization(target_image)\n",
    "# result = normalizer.reinhard_normalization(image)\n",
    "#\n",
    "# plt.show()\n",
    "# plt.imshow(result)\n",
    "# plt.show()\n",
    "# plt.imshow(target_image)\n",
    "# plt.show()\n",
    "# plt.imshow(target_image)\n",
    "# plt.show()\n",
    "\n"
   ],
   "id": "c63d5fc898452b72",
   "outputs": [],
   "execution_count": 14
  },
  {
   "metadata": {
    "ExecuteTime": {
     "end_time": "2025-09-07T10:09:10.714442Z",
     "start_time": "2025-09-07T10:09:06.158973Z"
    }
   },
   "cell_type": "code",
   "source": [
    "image_path = \"og.png\"\n",
    "target_image_path = \"target.png\"\n",
    "\n",
    "image = cv2.imread(image_path)\n",
    "target_image = cv2.imread(target_image_path)\n",
    "\n",
    "#normalizer = Normalization(target_image)\n",
    "#normalized = normalizer.reinhard_normalization(image)\n",
    "\n",
    "deconv_processor = Process()\n",
    "stain_images_wavelet, stain_matrix_wavelet, concentrations_wavelet = deconv_processor.process_image(\n",
    "    image,\n",
    "    visualise=True,\n",
    "    method='wavelet'\n",
    ")\n",
    "stain_images_ruifork, stain_matrix_ruifork, concentrations_ruifork = deconv_processor.process_image(\n",
    "    image,\n",
    "    visualise=True,\n",
    "    method='ruifork',\n",
    "    threshold=0.15\n",
    ")\n",
    "stain_images_reference, stain_matrix_reference, concentrations_reference = deconv_processor.process_image(\n",
    "    image,\n",
    "    visualise=True,\n",
    "    method='reference',\n",
    ")\n",
    "#stain_images_normalized = wavelet_processor.process_image(normalized, visualise=True)"
   ],
   "id": "9d9deda248787692",
   "outputs": [
    {
     "ename": "ValueError",
     "evalue": "Nieznana metoda: wavelet",
     "output_type": "error",
     "traceback": [
      "\u001B[31m---------------------------------------------------------------------------\u001B[39m",
      "\u001B[31mValueError\u001B[39m                                Traceback (most recent call last)",
      "\u001B[36mCell\u001B[39m\u001B[36m \u001B[39m\u001B[32mIn[15]\u001B[39m\u001B[32m, line 11\u001B[39m\n\u001B[32m      7\u001B[39m \u001B[38;5;66;03m#normalizer = Normalization(target_image)\u001B[39;00m\n\u001B[32m      8\u001B[39m \u001B[38;5;66;03m#normalized = normalizer.reinhard_normalization(image)\u001B[39;00m\n\u001B[32m     10\u001B[39m deconv_processor = Process()\n\u001B[32m---> \u001B[39m\u001B[32m11\u001B[39m stain_images_wavelet, stain_matrix_wavelet, concentrations_wavelet = deconv_processor.process_image(\n\u001B[32m     12\u001B[39m     image,\n\u001B[32m     13\u001B[39m     visualise=\u001B[38;5;28;01mTrue\u001B[39;00m,\n\u001B[32m     14\u001B[39m     method=\u001B[33m'\u001B[39m\u001B[33mwavelet\u001B[39m\u001B[33m'\u001B[39m\n\u001B[32m     15\u001B[39m )\n\u001B[32m     16\u001B[39m stain_images_ruifork, stain_matrix_ruifork, concentrations_ruifork = deconv_processor.process_image(\n\u001B[32m     17\u001B[39m     image,\n\u001B[32m     18\u001B[39m     visualise=\u001B[38;5;28;01mTrue\u001B[39;00m,\n\u001B[32m     19\u001B[39m     method=\u001B[33m'\u001B[39m\u001B[33mruifork\u001B[39m\u001B[33m'\u001B[39m,\n\u001B[32m     20\u001B[39m     threshold=\u001B[32m0.15\u001B[39m\n\u001B[32m     21\u001B[39m )\n\u001B[32m     22\u001B[39m stain_images_reference, stain_matrix_reference, concentrations_reference = deconv_processor.process_image(\n\u001B[32m     23\u001B[39m     image,\n\u001B[32m     24\u001B[39m     visualise=\u001B[38;5;28;01mTrue\u001B[39;00m,\n\u001B[32m     25\u001B[39m     method=\u001B[33m'\u001B[39m\u001B[33mreference\u001B[39m\u001B[33m'\u001B[39m,\n\u001B[32m     26\u001B[39m )\n",
      "\u001B[36mFile \u001B[39m\u001B[32m~\\PycharmProjects\\Colour_deconvolution\\deconvolution_processing.py:38\u001B[39m, in \u001B[36mProcess.process_image\u001B[39m\u001B[34m(image, visualise, method, threshold)\u001B[39m\n\u001B[32m     35\u001B[39m     stain_matrix = Ruifork.estimate_stain_matrix(od_flat, threshold=threshold)\n\u001B[32m     37\u001B[39m \u001B[38;5;28;01melse\u001B[39;00m:\n\u001B[32m---> \u001B[39m\u001B[32m38\u001B[39m     \u001B[38;5;28;01mraise\u001B[39;00m \u001B[38;5;167;01mValueError\u001B[39;00m(\u001B[33mf\u001B[39m\u001B[33m\"\u001B[39m\u001B[33mNieznana metoda: \u001B[39m\u001B[38;5;132;01m{\u001B[39;00mmethod\u001B[38;5;132;01m}\u001B[39;00m\u001B[33m\"\u001B[39m)\n\u001B[32m     40\u001B[39m stain_matrix = Deconvolution.normalize_stain_matrix(stain_matrix)\n\u001B[32m     41\u001B[39m concentrations = Deconvolution.deconv_stains(od_flat, stain_matrix)\n",
      "\u001B[31mValueError\u001B[39m: Nieznana metoda: wavelet"
     ]
    }
   ],
   "execution_count": 15
  }
 ],
 "metadata": {
  "kernelspec": {
   "display_name": "Python 3",
   "language": "python",
   "name": "python3"
  },
  "language_info": {
   "codemirror_mode": {
    "name": "ipython",
    "version": 2
   },
   "file_extension": ".py",
   "mimetype": "text/x-python",
   "name": "python",
   "nbconvert_exporter": "python",
   "pygments_lexer": "ipython2",
   "version": "2.7.6"
  }
 },
 "nbformat": 4,
 "nbformat_minor": 5
}
